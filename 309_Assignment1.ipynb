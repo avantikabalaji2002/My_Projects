{
  "nbformat": 4,
  "nbformat_minor": 0,
  "metadata": {
    "colab": {
      "provenance": [],
      "collapsed_sections": [],
      "authorship_tag": "ABX9TyMJ1amfKW/GwewnEYTUXDNG",
      "include_colab_link": true
    },
    "kernelspec": {
      "name": "python3",
      "display_name": "Python 3"
    },
    "language_info": {
      "name": "python"
    }
  },
  "cells": [
    {
      "cell_type": "markdown",
      "metadata": {
        "id": "view-in-github",
        "colab_type": "text"
      },
      "source": [
        "<a href=\"https://colab.research.google.com/github/avantikabalaji2002/My_Projects/blob/main/309_Assignment1.ipynb\" target=\"_parent\"><img src=\"https://colab.research.google.com/assets/colab-badge.svg\" alt=\"Open In Colab\"/></a>"
      ]
    },
    {
      "cell_type": "code",
      "execution_count": 1,
      "metadata": {
        "colab": {
          "base_uri": "https://localhost:8080/"
        },
        "id": "hpsBDq3K4ewY",
        "outputId": "ecc2383c-c420-4757-dd60-a9c6301591bc"
      },
      "outputs": [
        {
          "output_type": "stream",
          "name": "stdout",
          "text": [
            "('aman', '222', 777, 400.4)\n"
          ]
        }
      ],
      "source": [
        "#Q1 Generate a tuple from the set [\"aman\", \"222\", 777, 400.4]\n",
        "my_tuple = (\"aman\", \"222\", 777, 400.4)\n",
        "print(my_tuple)"
      ]
    },
    {
      "cell_type": "code",
      "source": [
        "#Q2 Create a dictionary of your basic data : (a) Roll No (b) Last Name (c) First Name (d) Date of birth. Print out the values and keys.\n",
        "my_dict = {\"Roll No:\": \"309\", \"Last Name:\": \"Balaji\",\n",
        "           \"First Name:\": \"Avantika\", \"Date of Birth\": \"06-05-2002\"}\n",
        "print(my_dict)"
      ],
      "metadata": {
        "colab": {
          "base_uri": "https://localhost:8080/"
        },
        "id": "RSVI9W5n5ZDZ",
        "outputId": "a123ebd8-decd-490d-b959-987da3965f60"
      },
      "execution_count": 5,
      "outputs": [
        {
          "output_type": "stream",
          "name": "stdout",
          "text": [
            "{'Roll No:': '309', 'Last Name:': 'Balaji', 'First Name:': 'Avantika', 'Date of Birth': '06-05-2002'}\n"
          ]
        }
      ]
    },
    {
      "cell_type": "code",
      "source": [
        "#Q3 Use rand function to generate a 2-dimensional random array with seed.\n",
        "import numpy as np\n",
        "np.random.seed(20)\n",
        "np.random.random((2,3))"
      ],
      "metadata": {
        "colab": {
          "base_uri": "https://localhost:8080/"
        },
        "id": "txn6Vv3SDcnp",
        "outputId": "c0c58feb-d1f0-43a8-ea55-b422e90573a6"
      },
      "execution_count": 7,
      "outputs": [
        {
          "output_type": "execute_result",
          "data": {
            "text/plain": [
              "array([[0.5881308 , 0.89771373, 0.89153073],\n",
              "       [0.81583748, 0.03588959, 0.69175758]])"
            ]
          },
          "metadata": {},
          "execution_count": 7
        }
      ]
    },
    {
      "cell_type": "code",
      "source": [
        "#Q4 Generate a single random number in [0.0, 1.0]. Find the absolute value of (-1234)\n",
        "from random import seed\n",
        "from random import random\n",
        "seed(1)\n",
        "value = random()\n",
        "print(value)\n",
        "\n",
        "number = -1234\n",
        "absolute_number = abs(number)\n",
        "print(absolute_number)"
      ],
      "metadata": {
        "colab": {
          "base_uri": "https://localhost:8080/"
        },
        "id": "9Km554-UGA9w",
        "outputId": "4932fd5e-e613-4ea2-9d92-acaa7ee28f2c"
      },
      "execution_count": 12,
      "outputs": [
        {
          "output_type": "stream",
          "name": "stdout",
          "text": [
            "0.13436424411240122\n",
            "1234\n"
          ]
        }
      ]
    },
    {
      "cell_type": "code",
      "source": [
        "#Q5 Return a random integer N such that 20 <= N <= 90. \n",
        "import random\n",
        "x = random.randint(20,90)\n",
        "print(x)"
      ],
      "metadata": {
        "colab": {
          "base_uri": "https://localhost:8080/"
        },
        "id": "BMYyOwpNGob9",
        "outputId": "5ad7c1af-9dbd-46de-e70b-83f1606aa2aa"
      },
      "execution_count": 14,
      "outputs": [
        {
          "output_type": "stream",
          "name": "stdout",
          "text": [
            "52\n"
          ]
        }
      ]
    },
    {
      "cell_type": "code",
      "source": [
        "#Q6 Given a population or set[11, 12, 13,14, 15]\n",
        "#Return a 3 length list of unique elements without replacement.\n",
        "import random\n",
        "from random import shuffle\n",
        "random_list = random.sample(range(11,15),3)\n",
        "print(random_list)\n",
        "\n",
        "#Shuffle the above set\n",
        "random.shuffle(random_list)\n",
        "\n",
        "#Print a random number from the set\n",
        "rand_index = random.randrange(len(random_list))\n",
        "new_rand = random_list[rand_index]\n",
        "print(\"Random number from new set: \"+str(new_rand))"
      ],
      "metadata": {
        "colab": {
          "base_uri": "https://localhost:8080/"
        },
        "id": "uniluXt_HIZR",
        "outputId": "962f8429-68a2-4022-a8c1-ab5140902ec9"
      },
      "execution_count": 41,
      "outputs": [
        {
          "output_type": "stream",
          "name": "stdout",
          "text": [
            "[12, 14, 13]\n",
            "Random number from new set: 12\n"
          ]
        }
      ]
    },
    {
      "cell_type": "code",
      "source": [
        "#Q7 Write the text \"The King is Dead, Long Live The King\" on to a file in your hard drive; read and print the text.\n",
        "f = open(\"sample.txt\", \"r\")\n",
        "print(f.read())"
      ],
      "metadata": {
        "colab": {
          "base_uri": "https://localhost:8080/"
        },
        "id": "gycZzSv8NYxN",
        "outputId": "f7e603b3-09ae-4ce4-ad66-d01a27b4dbf2"
      },
      "execution_count": 44,
      "outputs": [
        {
          "output_type": "stream",
          "name": "stdout",
          "text": [
            "{\\rtf1\\ansi\\ansicpg1252\\cocoartf2638\n",
            "\\cocoatextscaling0\\cocoaplatform0{\\fonttbl\\f0\\fmodern\\fcharset0 CourierNewPSMT;}\n",
            "{\\colortbl;\\red255\\green255\\blue255;\\red0\\green0\\blue255;}\n",
            "{\\*\\expandedcolortbl;;\\cssrgb\\c0\\c0\\c100000;}\n",
            "{\\*\\listtable{\\list\\listtemplateid1\\listhybrid{\\listlevel\\levelnfc0\\levelnfcn0\\leveljc0\\leveljcn0\\levelfollow0\\levelstartat1\\levelspace360\\levelindent0{\\*\\levelmarker \\{decimal\\}.}{\\leveltext\\leveltemplateid1\\'02\\'00.;}{\\levelnumbers\\'01;}\\fi-360\\li720\\lin720 }{\\listname ;}\\listid1}}\n",
            "{\\*\\listoverridetable{\\listoverride\\listid1\\listoverridecount0\\ls1}}\n",
            "\\paperw11900\\paperh16840\\margl1440\\margr1440\\vieww11520\\viewh8400\\viewkind0\n",
            "\\deftab720\n",
            "\\pard\\tx360\\tx720\\tx916\\tx1832\\tx2748\\tx3664\\tx4580\\tx5496\\tx6412\\tx7328\\tx8244\\tx9160\\tx10076\\tx10480\\tx10480\\tx10480\\tx10480\\tx10480\\pardeftab720\\li720\\fi-720\\sl291\\partightenfactor0\n",
            "\\ls1\\ilvl0\n",
            "\\f0\\fs20 \\cf2 The King is Dead, Long Live The King}\n"
          ]
        }
      ]
    },
    {
      "cell_type": "code",
      "source": [
        "#8 Create an illustrative function to demonstrate use of: if, elif and else (b) for, while, break and continue.\n",
        "print(\"Using if,elif and else: \")\n",
        "number = -0.0\n",
        "if number>0:\n",
        "  print(\"Positive Number\")\n",
        "elif number==0:\n",
        "  print(\"Zero\")\n",
        "else:\n",
        "  print(\"Negative Number\")\n",
        "\n",
        "print(\"Using break and continue: \")\n",
        "names = [\"Dahmer\", \"Claire\", \"Trace\", \"Nina\", \"Phil\"]\n",
        "for name in names:\n",
        "  if len(name)!=4:\n",
        "    continue\n",
        "\n",
        "  print(f\"Hello, {name}\")\n",
        "  if name==\"Phil\":\n",
        "      break\n",
        "print(\"Done\")\n",
        "\n",
        "print(\"Using while loop\")\n",
        "x = 0\n",
        "while(x<10):\n",
        "  print(x)\n",
        "  x = x+1\n",
        "\n",
        "print(\"Using for loop\")\n",
        "for x in range(3,7):\n",
        "  print(x)"
      ],
      "metadata": {
        "colab": {
          "base_uri": "https://localhost:8080/"
        },
        "id": "ul23syp4O5zI",
        "outputId": "32663ee8-8584-4a8b-fcb1-50a948f3616b"
      },
      "execution_count": 56,
      "outputs": [
        {
          "output_type": "stream",
          "name": "stdout",
          "text": [
            "Using if,elif and else: \n",
            "Zero\n",
            "Using break and continue: \n",
            "Hello, Nina\n",
            "Hello, Phil\n",
            "Done\n",
            "Using while loop\n",
            "0\n",
            "1\n",
            "2\n",
            "3\n",
            "4\n",
            "5\n",
            "6\n",
            "7\n",
            "8\n",
            "9\n",
            "Using for loop\n",
            "3\n",
            "4\n",
            "5\n",
            "6\n"
          ]
        }
      ]
    },
    {
      "cell_type": "code",
      "source": [
        "#9 Given a string \"The King is Dead, Long Live The King\" \n",
        "# Print the complete string\n",
        "# Print first character of the string\n",
        "# Print characters starting from 3rd to 5th\n",
        "# Print string starting from 3rd character\n",
        "# Split the words\n",
        "my_string = \"The King is Dead, Long Live The King\"\n",
        "print(my_string)\n",
        "first_char = my_string[0]\n",
        "print(first_char)\n",
        "middle_char = my_string[3:5]\n",
        "print(middle_char)\n",
        "N = len(my_string)\n",
        "new_string = my_string[3:N]\n",
        "print(new_string)\n",
        "split_string = my_string.split()\n",
        "print(split_string)"
      ],
      "metadata": {
        "colab": {
          "base_uri": "https://localhost:8080/"
        },
        "id": "tDAPiAaxSfxN",
        "outputId": "83e0c95f-48ec-4051-bdc3-18085785da96"
      },
      "execution_count": 62,
      "outputs": [
        {
          "output_type": "stream",
          "name": "stdout",
          "text": [
            "The King is Dead, Long Live The King\n",
            "T\n",
            " K\n",
            " King is Dead, Long Live The King\n",
            "['The', 'King', 'is', 'Dead,', 'Long', 'Live', 'The', 'King']\n"
          ]
        }
      ]
    },
    {
      "cell_type": "code",
      "source": [
        "#Q10 An array can be created from a list:  Create an array from a list comprising of numbers 1,4,5,8 (treat them as floats).Slice the above array to display first and second elements\n",
        "import numpy as np\n",
        "my_list = [1,4,5,8]\n",
        "my_array = np.array(my_list)\n",
        "print(my_array)\n",
        "a = my_array[0:2]\n",
        "print(a)"
      ],
      "metadata": {
        "colab": {
          "base_uri": "https://localhost:8080/"
        },
        "id": "Qsw7jtOSUXBA",
        "outputId": "ad6b0df6-9758-41b3-9547-6bd2cb5e1901"
      },
      "execution_count": 66,
      "outputs": [
        {
          "output_type": "stream",
          "name": "stdout",
          "text": [
            "[1 4 5 8]\n",
            "[1 4]\n"
          ]
        }
      ]
    },
    {
      "cell_type": "code",
      "source": [
        "#Q11 Arrays can be multidimensional. Create a two-dimensional array of (1,2,3) and (4,5,6).\n",
        "my_array = [(1,2,3),(4,5,6)]\n",
        "print(my_array)"
      ],
      "metadata": {
        "colab": {
          "base_uri": "https://localhost:8080/"
        },
        "id": "63GI537JWIVC",
        "outputId": "0a858cc7-2268-4820-cf0f-fd6afa3f2295"
      },
      "execution_count": 67,
      "outputs": [
        {
          "output_type": "stream",
          "name": "stdout",
          "text": [
            "[(1, 2, 3), (4, 5, 6)]\n"
          ]
        }
      ]
    },
    {
      "cell_type": "code",
      "source": [
        "#Q12 Array slicing works with multiple dimensions in the same way as usual, applying each slice specification as a filter to a specified dimension. Consider two-dimensional array of (1,2,3) and (4,5,6).\n",
        "# Slice and display the 2nd row.\n",
        "# Write code to display as array([2., 5.]) \n",
        "# Find the length of the array.\n",
        "import numpy as np\n",
        "a = np.array([[1,2,3],[4,5,6]])\n",
        "print(a[1])\n",
        "print(a[:,1])\n",
        "x = len(a)\n",
        "print(x)"
      ],
      "metadata": {
        "colab": {
          "base_uri": "https://localhost:8080/"
        },
        "id": "EAgqa3YMWz2W",
        "outputId": "4392ed8f-f33d-4218-d697-12e3b9531fc8"
      },
      "execution_count": 76,
      "outputs": [
        {
          "output_type": "stream",
          "name": "stdout",
          "text": [
            "[[1 2 3]\n",
            " [4 5 6]]\n",
            "[4 5 6]\n",
            "[2 5]\n",
            "2\n"
          ]
        }
      ]
    },
    {
      "cell_type": "code",
      "source": [
        "#Q13 Arrays can be reshaped using tuples that specify new dimensions. Turn a ten-element one-dimensional array into a two-dimensional one whose first axis has five elements and whose second axis has two elements. Obtain the transpose of the array\n",
        "import numpy as np\n",
        "arr = np.array([0,1,2,3,4,5,6,7,8,9])\n",
        "new_arr = np.reshape(arr,(2,5))\n",
        "print(\"Array: \")\n",
        "print(new_arr)\n",
        "print(\"Array Transpose: \")\n",
        "array_transpose = new_arr.transpose()\n",
        "print(array_transpose)"
      ],
      "metadata": {
        "colab": {
          "base_uri": "https://localhost:8080/"
        },
        "id": "eoRWOCOAeF__",
        "outputId": "c1f48e6c-cfaf-415d-c319-db976768e22f"
      },
      "execution_count": 4,
      "outputs": [
        {
          "output_type": "stream",
          "name": "stdout",
          "text": [
            "Array: \n",
            "[[0 1 2 3 4]\n",
            " [5 6 7 8 9]]\n",
            "Array Transpose: \n",
            "[[0 5]\n",
            " [1 6]\n",
            " [2 7]\n",
            " [3 8]\n",
            " [4 9]]\n"
          ]
        }
      ]
    },
    {
      "cell_type": "code",
      "source": [
        "#Q14 Create an array from a list of 1,2 and 3.\n",
        "import numpy as np\n",
        "my_list = [1,2,3]\n",
        "my_array = np.array(my_list)\n",
        "print(my_array)\n"
      ],
      "metadata": {
        "colab": {
          "base_uri": "https://localhost:8080/"
        },
        "id": "DBs9gXM1HwHw",
        "outputId": "b48132a9-b0ae-41f7-add9-39f23447f79f"
      },
      "execution_count": 5,
      "outputs": [
        {
          "output_type": "stream",
          "name": "stdout",
          "text": [
            "[1 2 3]\n"
          ]
        }
      ]
    },
    {
      "cell_type": "code",
      "source": [
        "#Q15 Fill an array [1,2,3] with a single value [9,9,9]. \n",
        "import numpy as np\n",
        "my_array = np.array([1,2,3])\n",
        "new_array = np.full((1,3),9)\n",
        "print(new_array)"
      ],
      "metadata": {
        "colab": {
          "base_uri": "https://localhost:8080/"
        },
        "id": "olvnNeNeIFPP",
        "outputId": "811f7772-b12e-4242-e7ba-e68359000f0f"
      },
      "execution_count": 7,
      "outputs": [
        {
          "output_type": "stream",
          "name": "stdout",
          "text": [
            "[[9 9 9]]\n"
          ]
        }
      ]
    },
    {
      "cell_type": "code",
      "source": [
        "#Q16 Sum the elements of array [2,4,5].\n",
        "import numpy as np\n",
        "my_array = np.array([2,4,5])\n",
        "array_sum = np.sum(my_array)\n",
        "print(array_sum)"
      ],
      "metadata": {
        "colab": {
          "base_uri": "https://localhost:8080/"
        },
        "id": "Fvme02hII6eu",
        "outputId": "4a439727-b220-4022-e883-5e020185d771"
      },
      "execution_count": 8,
      "outputs": [
        {
          "output_type": "stream",
          "name": "stdout",
          "text": [
            "11\n"
          ]
        }
      ]
    },
    {
      "cell_type": "code",
      "source": [
        "#Q17 Give the products of array [77,74,75]\n",
        "import numpy as np\n",
        "my_array = np.array([77,74,75])\n",
        "array_prod = np.prod(my_array)\n",
        "print(array_prod)"
      ],
      "metadata": {
        "colab": {
          "base_uri": "https://localhost:8080/"
        },
        "id": "hIhqkKtAJSCR",
        "outputId": "9c53c922-3957-448b-8787-266df0b37fa6"
      },
      "execution_count": 9,
      "outputs": [
        {
          "output_type": "stream",
          "name": "stdout",
          "text": [
            "427350\n"
          ]
        }
      ]
    },
    {
      "cell_type": "code",
      "source": [
        "#Q18 Given an array [2,1,9,1,2,22,1,1,4,55,6,2,56]. Find mean, variance, max, min, argmin, median, argmax and standard deviation.\n",
        "import numpy as np\n",
        "my_array = np.array([2,1,9,1,2,22,1,1,4,55,6,2,56])\n",
        "print(\"Average:\")\n",
        "print(np.mean(my_array))\n",
        "print(\"Variance:\")\n",
        "print(np.var(my_array))\n",
        "print(\"Standard deviation:\")\n",
        "print(np.std(my_array))\n",
        "print(\"Minimum:\")\n",
        "print(np.min(my_array))\n",
        "print(\"Maximum:\")\n",
        "print(np.max(my_array))\n",
        "print(\"Median:\")\n",
        "print(np.median(my_array))\n",
        "print(\"Argmin:\")\n",
        "print(np.argmin(my_array))\n",
        "print(\"Argmax:\")\n",
        "print(np.argmax(my_array))"
      ],
      "metadata": {
        "colab": {
          "base_uri": "https://localhost:8080/"
        },
        "id": "j-Ol1Nc8Jrqn",
        "outputId": "8fa26e56-a010-4095-8038-0c7e73cb432e"
      },
      "execution_count": 16,
      "outputs": [
        {
          "output_type": "stream",
          "name": "stdout",
          "text": [
            "Average:\n",
            "12.461538461538462\n",
            "Variance:\n",
            "367.32544378698225\n",
            "Standard deviation:\n",
            "19.165736192147232\n",
            "Minimum:\n",
            "1\n",
            "Maximum:\n",
            "56\n",
            "Median:\n",
            "2.0\n",
            "Argmin:\n",
            "1\n",
            "Argmax:\n",
            "12\n"
          ]
        }
      ]
    },
    {
      "cell_type": "code",
      "source": [
        "#Q19 Extract unique elements from an array: [1, 1, 4, 5, 5, 5, 7] and sort it.\n",
        "import numpy as np\n",
        "my_arr = np.array([1,1,4,5,5,5,7])\n",
        "print(np.unique(my_arr))"
      ],
      "metadata": {
        "colab": {
          "base_uri": "https://localhost:8080/"
        },
        "id": "mJUaSnelMEIM",
        "outputId": "f41e35a7-547c-4aaf-9852-d78b07e9f7f3"
      },
      "execution_count": 22,
      "outputs": [
        {
          "output_type": "stream",
          "name": "stdout",
          "text": [
            "[1 4 5 7]\n"
          ]
        }
      ]
    },
    {
      "cell_type": "code",
      "source": [
        "#Q20 Find dot product of two arrays [1, 2, 3]and [0, 1, 1]. \n",
        "import numpy as np\n",
        "my_arr1 = np.array([1,2,3])\n",
        "my_arr2 = np.array([0,1,1])\n",
        "print(np.dot(my_arr1,my_arr2))"
      ],
      "metadata": {
        "colab": {
          "base_uri": "https://localhost:8080/"
        },
        "id": "FbwLi7FGMwkF",
        "outputId": "b3831af4-ad8d-49f2-fd32-39b018b1390f"
      },
      "execution_count": 23,
      "outputs": [
        {
          "output_type": "stream",
          "name": "stdout",
          "text": [
            "5\n"
          ]
        }
      ]
    },
    {
      "cell_type": "code",
      "source": [
        "#Q21 Find the eigenvalues and eigenvectors of matrix A.\n",
        "import numpy as np\n",
        "from numpy.linalg import eig\n",
        "my_array = np.array([[2,12],[1,-5]])\n",
        "w,v = eig(my_array)\n",
        "print('Eigen Value', w)\n",
        "print('Eigen Vectors', v)"
      ],
      "metadata": {
        "colab": {
          "base_uri": "https://localhost:8080/"
        },
        "id": "_qoBwFnxNUQs",
        "outputId": "43cc9197-c3a4-4586-ec96-7b19a91b8683"
      },
      "execution_count": 25,
      "outputs": [
        {
          "output_type": "stream",
          "name": "stdout",
          "text": [
            "Eigen Value [ 3.4244289 -6.4244289]\n",
            "Eigen Vectors [[ 0.99302846 -0.8184484 ]\n",
            " [ 0.11787487  0.57458003]]\n"
          ]
        }
      ]
    }
  ]
}