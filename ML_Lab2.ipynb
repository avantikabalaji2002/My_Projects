{
  "nbformat": 4,
  "nbformat_minor": 0,
  "metadata": {
    "colab": {
      "provenance": [],
      "collapsed_sections": [],
      "authorship_tag": "ABX9TyMy86xbNvwvS+26fVWcz1nc",
      "include_colab_link": true
    },
    "kernelspec": {
      "name": "python3",
      "display_name": "Python 3"
    },
    "language_info": {
      "name": "python"
    }
  },
  "cells": [
    {
      "cell_type": "markdown",
      "metadata": {
        "id": "view-in-github",
        "colab_type": "text"
      },
      "source": [
        "<a href=\"https://colab.research.google.com/github/avantikabalaji2002/My_Projects/blob/main/ML_Lab2.ipynb\" target=\"_parent\"><img src=\"https://colab.research.google.com/assets/colab-badge.svg\" alt=\"Open In Colab\"/></a>"
      ]
    },
    {
      "cell_type": "code",
      "execution_count": 2,
      "metadata": {
        "id": "F9RAeo5Le13g",
        "colab": {
          "base_uri": "https://localhost:8080/"
        },
        "outputId": "bdfbeabf-626a-4aeb-8f7d-675640ffff12"
      },
      "outputs": [
        {
          "output_type": "stream",
          "name": "stdout",
          "text": [
            "Enter principle: 1000\n",
            "Enter time: 10\n",
            "Enter interest rate: 4\n",
            "9400.0\n"
          ]
        }
      ],
      "source": [
        "#Q1\n",
        "princ=int(input(\"Enter principle: \"))\n",
        "time = int(input(\"Enter time: \"))\n",
        "rate = int(input(\"Enter interest rate: \"))\n",
        "a = princ*(1+rate/100)*time\n",
        "ci = a - princ\n",
        "print(ci)"
      ]
    },
    {
      "cell_type": "code",
      "source": [
        "#Q2\n",
        "n = int(input(\"Enter size: \"))\n",
        "x=list()\n",
        "for i in range(n):\n",
        "  x.append(input())\n",
        "z=list()\n",
        "for i in range(n):\n",
        "  perc=(x.count(x[i])/n)*100\n",
        "  z.append(perc)\n",
        "print(z)"
      ],
      "metadata": {
        "colab": {
          "base_uri": "https://localhost:8080/"
        },
        "id": "-qwVkH8yhhJj",
        "outputId": "150ceab8-280a-4cd1-c543-9c055f19a869"
      },
      "execution_count": 35,
      "outputs": [
        {
          "output_type": "stream",
          "name": "stdout",
          "text": [
            "Enter size: 4\n",
            "w\n",
            "w\n",
            "t\n",
            "\n",
            "[50.0, 50.0, 25.0, 25.0]\n"
          ]
        }
      ]
    },
    {
      "cell_type": "code",
      "source": [
        "#Q3\n",
        "n = int(input(\"Enter a number: \"))\n",
        "x=list()\n",
        "while(n!=0):\n",
        "  x.append(n%2)\n",
        "  n=int(n/2)\n",
        "y=x[::-1]\n",
        "if(y==y[::-1]):\n",
        "  print(\"True\")\n",
        "else:\n",
        "  print(\"False\")\n"
      ],
      "metadata": {
        "colab": {
          "base_uri": "https://localhost:8080/"
        },
        "id": "9mfLYR2Ks_AM",
        "outputId": "18e6f67a-3546-4e0b-f213-9f9720a64b1a"
      },
      "execution_count": 34,
      "outputs": [
        {
          "output_type": "stream",
          "name": "stdout",
          "text": [
            "Enter a number: 5\n",
            "True\n"
          ]
        }
      ]
    },
    {
      "cell_type": "code",
      "source": [
        "#Q4\n",
        "def checkDivisibility(n, digit) :\n",
        "\treturn (digit != 0 and n % digit == 0)\n",
        "\t\n",
        "def allDigitsDivide( n) :\n",
        "\ttemp = n\n",
        "\twhile (temp > 0) :\n",
        "\n",
        "\t\tdigit = temp % 10\n",
        "\t\tif ((checkDivisibility(n, digit)) == False) :\n",
        "\t\t\treturn False\n",
        "\n",
        "\t\ttemp = temp // 10\n",
        "\t\n",
        "\treturn True\n",
        "\n",
        "n =int(input(\"Enter a number: \")) \n",
        "\n",
        "if (allDigitsDivide(n)) :\n",
        "\tprint(\"Yes\")\n",
        "else :\n",
        "\tprint(\"No\" )\n",
        "\t\n"
      ],
      "metadata": {
        "colab": {
          "base_uri": "https://localhost:8080/"
        },
        "id": "iojwFvLDracJ",
        "outputId": "016a9682-a6b2-4a2d-a0de-41cc22e954e7"
      },
      "execution_count": 30,
      "outputs": [
        {
          "output_type": "stream",
          "name": "stdout",
          "text": [
            "Enter a number: 128\n",
            "Yes\n"
          ]
        }
      ]
    },
    {
      "cell_type": "code",
      "source": [
        "#Q5\n",
        "def second_largest(list):\n",
        "    large= max(list)\n",
        "    list.remove(large)\n",
        "    large= max(list)\n",
        "    return large\n",
        "\n",
        "li=[]\n",
        "n=int(input(\"Enter size of list \"))\n",
        "for i in range(0,n):\n",
        "    e=int(input(\"Enter element of list \"))\n",
        "    li.append(e)\n",
        "\n",
        "print(\"second largest in \",li,\"is\")\n",
        "print(second_largest(li))            "
      ],
      "metadata": {
        "colab": {
          "base_uri": "https://localhost:8080/"
        },
        "id": "x00T9zEElGGS",
        "outputId": "b9cefe38-c83b-4a6c-80c4-12be5989651a"
      },
      "execution_count": 5,
      "outputs": [
        {
          "output_type": "stream",
          "name": "stdout",
          "text": [
            "Enter size of list 4\n",
            "Enter element of list 32\n",
            "Enter element of list 33\n",
            "Enter element of list 0\n",
            "Enter element of list 44\n",
            "second largest in  [32, 33, 0, 44] is\n",
            "33\n"
          ]
        }
      ]
    },
    {
      "cell_type": "code",
      "source": [
        "#Q3(NumPy)\n",
        "import numpy as np\n",
        "cvalues = [-1, 11, 23, 31, 42, -9]\n",
        "C = np.array(cvalues)\n",
        "print(\"Values in Centigrade degrees:\")\n",
        "print(C)\n",
        "print(\"Values in  Fahrenheit degrees:\")\n",
        "print(np.round((9*C/5 + 32),2))\n",
        "\n"
      ],
      "metadata": {
        "colab": {
          "base_uri": "https://localhost:8080/"
        },
        "id": "58_5zBz7lz9W",
        "outputId": "24242dd0-7e36-40c6-be65-1d2258465f86"
      },
      "execution_count": 11,
      "outputs": [
        {
          "output_type": "stream",
          "name": "stdout",
          "text": [
            "Values in Centigrade degrees:\n",
            "[-1 11 23 31 42 -9]\n",
            "Values in  Fahrenheit degrees:\n",
            "[ 30.2  51.8  73.4  87.8 107.6  15.8]\n"
          ]
        }
      ]
    },
    {
      "cell_type": "code",
      "source": [
        "#Q4 Write a NumPy program to count the number of dimensions, number of elements and number of bytes for each element in a given array.\n",
        "import numpy as np    \n",
        "print(\"\\nOriginal arrays:\")\n",
        "x = np.array([[ 0,  1,  2,  3,  4,  5,  6,  7,  8],\n",
        "       [12, 13, 14, 15, 16, 17, 18, 19, 20]])\n",
        "print(x)\n",
        "print(\"\\nNumber of dimensions:\")\n",
        "print(x.ndim)\n",
        "print(\"Number of elements:\")\n",
        "print(x.size)\n",
        "print(\"Number of bytes for each element in array:\")\n",
        "print(x.itemsize) \n"
      ],
      "metadata": {
        "colab": {
          "base_uri": "https://localhost:8080/"
        },
        "id": "CBkKt4Camy1F",
        "outputId": "9733c0f3-efa2-4850-9c51-27d18daa98e0"
      },
      "execution_count": 15,
      "outputs": [
        {
          "output_type": "stream",
          "name": "stdout",
          "text": [
            "\n",
            "Original arrays:\n",
            "[[ 0  1  2  3  4  5  6  7  8]\n",
            " [12 13 14 15 16 17 18 19 20]]\n",
            "\n",
            "Number of dimensions:\n",
            "2\n",
            "Number of elements:\n",
            "18\n",
            "Number of bytes for each element in array:\n",
            "8\n"
          ]
        }
      ]
    },
    {
      "cell_type": "code",
      "source": [
        "#Q5 Write a NumPy program to extract third and second elements of the first and second rows from a given (3x4) array\n",
        "import numpy as np\n",
        "array_data = np.arange(0,16).reshape((4, 4))\n",
        "print(\"Original array:\")\n",
        "print(array_data)\n",
        "print(\"\\nThird and fourth elements of the first and second rows \")\n",
        "print(array_data[0:2, 2:4])\n"
      ],
      "metadata": {
        "colab": {
          "base_uri": "https://localhost:8080/"
        },
        "id": "uM0PBpYMoa45",
        "outputId": "ade8b04e-09c0-448f-8531-597e226716de"
      },
      "execution_count": 21,
      "outputs": [
        {
          "output_type": "stream",
          "name": "stdout",
          "text": [
            "Original array:\n",
            "[[ 0  1  2  3]\n",
            " [ 4  5  6  7]\n",
            " [ 8  9 10 11]\n",
            " [12 13 14 15]]\n",
            "\n",
            "Third and fourth elements of the first and second rows \n",
            "[[2 3]\n",
            " [6 7]]\n"
          ]
        }
      ]
    },
    {
      "cell_type": "code",
      "source": [
        "import random\n",
        "output=list()\n"
      ],
      "metadata": {
        "id": "E9yp4XYYpijd"
      },
      "execution_count": null,
      "outputs": []
    },
    {
      "cell_type": "code",
      "source": [
        "import numpy as np\n",
        "arr = np.array([1, 2, 3, 4, 5, 6, 7, 8])\n",
        "print('1D Array')\n",
        "print(arr)\n",
        "print('\\n')\n",
        "arr1 = arr.reshape(2, 4)\n",
        "print ('2D Array')\n",
        "print (arr1)\n"
      ],
      "metadata": {
        "colab": {
          "base_uri": "https://localhost:8080/"
        },
        "id": "4Lz0WCIFp7kP",
        "outputId": "a27a001f-5788-4d21-bb2c-6b497b9013f1"
      },
      "execution_count": 25,
      "outputs": [
        {
          "output_type": "stream",
          "name": "stdout",
          "text": [
            "1D Array\n",
            "[1 2 3 4 5 6 7 8]\n",
            "\n",
            "\n",
            "2D Array\n",
            "[[1 2 3 4]\n",
            " [5 6 7 8]]\n"
          ]
        }
      ]
    },
    {
      "cell_type": "code",
      "source": [],
      "metadata": {
        "id": "X0yyd3rHrV0z"
      },
      "execution_count": null,
      "outputs": []
    }
  ]
}