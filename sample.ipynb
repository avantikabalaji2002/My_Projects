{
  "nbformat": 4,
  "nbformat_minor": 0,
  "metadata": {
    "colab": {
      "provenance": [],
      "authorship_tag": "ABX9TyNK8hmuOtH4ofF9Dt+Ldmo8",
      "include_colab_link": true
    },
    "kernelspec": {
      "name": "python3",
      "display_name": "Python 3"
    },
    "language_info": {
      "name": "python"
    }
  },
  "cells": [
    {
      "cell_type": "markdown",
      "metadata": {
        "id": "view-in-github",
        "colab_type": "text"
      },
      "source": [
        "<a href=\"https://colab.research.google.com/github/avantikabalaji2002/My_Projects/blob/main/sample.ipynb\" target=\"_parent\"><img src=\"https://colab.research.google.com/assets/colab-badge.svg\" alt=\"Open In Colab\"/></a>"
      ]
    },
    {
      "cell_type": "code",
      "execution_count": 1,
      "metadata": {
        "colab": {
          "base_uri": "https://localhost:8080/"
        },
        "id": "UTvscq_4dg4U",
        "outputId": "b442fc2f-b502-432f-9719-865d4dc6a8f8"
      },
      "outputs": [
        {
          "output_type": "stream",
          "name": "stdout",
          "text": [
            "hi\n"
          ]
        }
      ],
      "source": [
        "print(\"hi\")"
      ]
    },
    {
      "cell_type": "code",
      "source": [],
      "metadata": {
        "id": "Ie0DJftMfaQz"
      },
      "execution_count": null,
      "outputs": []
    },
    {
      "cell_type": "markdown",
      "source": [
        "This is a part of the notebook, but a textbox."
      ],
      "metadata": {
        "id": "6h_fR-wsfjDX"
      }
    },
    {
      "cell_type": "code",
      "source": [
        "print(20+40)"
      ],
      "metadata": {
        "colab": {
          "base_uri": "https://localhost:8080/"
        },
        "id": "3WloAIAUfyHm",
        "outputId": "5d38228c-6eb5-40d7-deaa-68e2d327f4ca"
      },
      "execution_count": 2,
      "outputs": [
        {
          "output_type": "stream",
          "name": "stdout",
          "text": [
            "60\n"
          ]
        }
      ]
    },
    {
      "cell_type": "code",
      "source": [
        "a=int(input(\"Enter a number: \") )#Read input from user\n",
        "#Condition\n",
        "if a>10:\n",
        "  print (\"Number is greater than 10\")\n",
        "else:\n",
        "  print (\"Number is less than 10\")"
      ],
      "metadata": {
        "colab": {
          "base_uri": "https://localhost:8080/"
        },
        "id": "gNs8ID7Kf_vS",
        "outputId": "8ad10c2a-5aca-4b5a-a398-082fb9c260b7"
      },
      "execution_count": 5,
      "outputs": [
        {
          "output_type": "stream",
          "name": "stdout",
          "text": [
            "Enter a number: 30\n",
            "Number is greater than 10\n"
          ]
        }
      ]
    },
    {
      "cell_type": "code",
      "source": [
        "animals = {'cat', 'dog'}\n",
        "print ('cat' in animals) \n",
        "print ('fish' in animals ) \n",
        "animals.add('fish') \n",
        "print ('fish' in animals)\n",
        "print (len(animals))\n",
        "animals.add('cat') \n",
        "print (len(animals) )\n",
        "animals.remove('cat') \n",
        "print (len(animals) )"
      ],
      "metadata": {
        "colab": {
          "base_uri": "https://localhost:8080/"
        },
        "id": "i_0_B30TgwB5",
        "outputId": "6bedf840-38d6-46c0-be46-1af584b62f90"
      },
      "execution_count": 6,
      "outputs": [
        {
          "output_type": "stream",
          "name": "stdout",
          "text": [
            "True\n",
            "False\n",
            "True\n",
            "3\n",
            "3\n",
            "2\n"
          ]
        }
      ]
    },
    {
      "cell_type": "code",
      "source": [
        "import numpy as np\n",
        "a = np.array([[1, 2, 3],[2,3,1]])\n",
        "print (type(a)) \n",
        "print (a.shape ) \n",
        "print (a[0][0], a[0][1], a[0][2]) # Prints \"1 2 3\"\n",
        "a[0][0] = 5 # Change an element of the array\n",
        "print (a) # Prints \"[5, 2, 3]\"\n",
        "b = np.array([[1,2,3],[4,5,6]]) # Create a rank 2 array\n",
        "print( b.shape ) # Prints \"(2, 3)\"\n",
        "print( b[0, 0], b[0, 1], b[1, 0])"
      ],
      "metadata": {
        "colab": {
          "base_uri": "https://localhost:8080/"
        },
        "id": "EdeoQo6jh08d",
        "outputId": "4ca9a7d1-75e4-4483-d544-f2ecec96f338"
      },
      "execution_count": 15,
      "outputs": [
        {
          "output_type": "stream",
          "name": "stdout",
          "text": [
            "<class 'numpy.ndarray'>\n",
            "(2, 3)\n",
            "1 2 3\n",
            "[[5 2 3]\n",
            " [2 3 1]]\n",
            "(2, 3)\n",
            "1 2 4\n"
          ]
        }
      ]
    }
  ]
}